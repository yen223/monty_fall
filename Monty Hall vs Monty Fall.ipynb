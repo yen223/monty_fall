{
 "cells": [
  {
   "cell_type": "code",
   "execution_count": 1,
   "metadata": {
    "collapsed": false
   },
   "outputs": [
    {
     "name": "stdout",
     "output_type": "stream",
     "text": [
      "['goat', 'car', 'goat']\n"
     ]
    }
   ],
   "source": [
    "import random\n",
    "\n",
    "def make_doors():\n",
    "    doors = ['car', 'goat', 'goat']\n",
    "    random.shuffle(doors)\n",
    "    return doors\n",
    "\n",
    "print(make_doors())"
   ]
  },
  {
   "cell_type": "code",
   "execution_count": 2,
   "metadata": {
    "collapsed": true
   },
   "outputs": [],
   "source": [
    "def pick_door():\n",
    "    return random.choice(range(3))"
   ]
  },
  {
   "cell_type": "code",
   "execution_count": 3,
   "metadata": {
    "collapsed": false
   },
   "outputs": [
    {
     "data": {
      "text/plain": [
       "1"
      ]
     },
     "execution_count": 3,
     "metadata": {},
     "output_type": "execute_result"
    }
   ],
   "source": [
    "def reveal_random_door(chosen):\n",
    "    return random.choice([i for i in range(3) if i != chosen])\n",
    "\n",
    "reveal_random_door(2)"
   ]
  },
  {
   "cell_type": "code",
   "execution_count": 4,
   "metadata": {
    "collapsed": true
   },
   "outputs": [],
   "source": [
    "def play(simulate, switch):\n",
    "    win = 0\n",
    "    loss = 0\n",
    "    passed = 0\n",
    "    for _ in range(100000):\n",
    "        prize = simulate(switch)\n",
    "        if prize == 'car':\n",
    "            win += 1\n",
    "        elif prize == 'goat':\n",
    "            loss += 1\n",
    "        else:\n",
    "            passed += 1\n",
    "\n",
    "    print(\"Won: {}; Lost: {}; Passed: {}\".format(win, loss, passed))"
   ]
  },
  {
   "cell_type": "code",
   "execution_count": 5,
   "metadata": {
    "collapsed": true
   },
   "outputs": [],
   "source": [
    "def simulate_monty_fall(switch=True):\n",
    "    doors = make_doors()\n",
    "    my_door = pick_door()\n",
    "    hosts_door = reveal_random_door(my_door)\n",
    "    if doors[hosts_door] == 'car':\n",
    "        return None\n",
    "    elif switch:\n",
    "        chosen = [x for x in range(3) if x not in (my_door, hosts_door)].pop()\n",
    "        return doors[chosen]\n",
    "    else:\n",
    "        return doors[my_door]"
   ]
  },
  {
   "cell_type": "code",
   "execution_count": 6,
   "metadata": {
    "collapsed": false
   },
   "outputs": [
    {
     "name": "stdout",
     "output_type": "stream",
     "text": [
      "Won: 33157; Lost: 33446; Passed: 33397\n",
      "Won: 33111; Lost: 33494; Passed: 33395\n"
     ]
    }
   ],
   "source": [
    "play(simulate_monty_fall, switch=True)\n",
    "play(simulate_monty_fall, switch=False)"
   ]
  },
  {
   "cell_type": "code",
   "execution_count": 7,
   "metadata": {
    "collapsed": false
   },
   "outputs": [
    {
     "name": "stdout",
     "output_type": "stream",
     "text": [
      "Won: 66658; Lost: 33342; Passed: 0\n",
      "Won: 33654; Lost: 66346; Passed: 0\n"
     ]
    }
   ],
   "source": [
    "def simulate_monty_hall(switch=True):\n",
    "    doors = make_doors()\n",
    "    my_door = pick_door()\n",
    "    hosts_door = [i for i in range(3) if i != my_door and doors[i] != 'car'].pop()\n",
    "    if doors[hosts_door] == 'car':\n",
    "        return None\n",
    "    elif switch:\n",
    "        chosen = [x for x in range(3) if x not in (my_door, hosts_door)].pop()\n",
    "        return doors[chosen]\n",
    "    else:\n",
    "        return doors[my_door]\n",
    "    \n",
    "play(simulate_monty_hall, switch=True)\n",
    "play(simulate_monty_hall, switch=False)"
   ]
  },
  {
   "cell_type": "code",
   "execution_count": null,
   "metadata": {
    "collapsed": true
   },
   "outputs": [],
   "source": []
  }
 ],
 "metadata": {
  "kernelspec": {
   "display_name": "Python 3",
   "language": "python",
   "name": "python3"
  },
  "language_info": {
   "codemirror_mode": {
    "name": "ipython",
    "version": 3
   },
   "file_extension": ".py",
   "mimetype": "text/x-python",
   "name": "python",
   "nbconvert_exporter": "python",
   "pygments_lexer": "ipython3",
   "version": "3.5.1"
  }
 },
 "nbformat": 4,
 "nbformat_minor": 0
}
