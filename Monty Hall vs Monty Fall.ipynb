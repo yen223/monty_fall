{
 "cells": [
  {
   "cell_type": "code",
   "execution_count": 1,
   "metadata": {
    "collapsed": false
   },
   "outputs": [
    {
     "name": "stdout",
     "output_type": "stream",
     "text": [
      "['car', 'goat', 'goat']\n"
     ]
    }
   ],
   "source": [
    "import random\n",
    "\n",
    "def make_doors():\n",
    "    doors = ['car', 'goat', 'goat']\n",
    "    random.shuffle(doors)\n",
    "    return doors\n",
    "\n",
    "print(make_doors())"
   ]
  },
  {
   "cell_type": "code",
   "execution_count": 2,
   "metadata": {
    "collapsed": true
   },
   "outputs": [],
   "source": [
    "def pick_door():\n",
    "    return random.choice(range(3))"
   ]
  },
  {
   "cell_type": "code",
   "execution_count": 3,
   "metadata": {
    "collapsed": true
   },
   "outputs": [],
   "source": [
    "def play(simulate, switch):\n",
    "    win = 0\n",
    "    loss = 0\n",
    "    passed = 0\n",
    "    for _ in range(100000):\n",
    "        prize = simulate(switch)\n",
    "        if prize == 'car':\n",
    "            win += 1\n",
    "        elif prize == 'goat':\n",
    "            loss += 1\n",
    "        else:\n",
    "            passed += 1\n",
    "\n",
    "    print(\"Won: {}; Lost: {}; Passed: {}\".format(win, loss, passed))"
   ]
  },
  {
   "cell_type": "code",
   "execution_count": 4,
   "metadata": {
    "collapsed": true
   },
   "outputs": [],
   "source": [
    "def simulate_monty_fall(switch=True):\n",
    "    doors = make_doors()\n",
    "    my_door = pick_door()\n",
    "    hosts_door = random.choice([i for i in range(3) if i != my_door])\n",
    "    if doors[hosts_door] == 'car':\n",
    "        return None\n",
    "    elif switch:\n",
    "        chosen = [x for x in range(3) if x not in (my_door, hosts_door)].pop()\n",
    "        return doors[chosen]\n",
    "    else:\n",
    "        return doors[my_door]"
   ]
  },
  {
   "cell_type": "code",
   "execution_count": 5,
   "metadata": {
    "collapsed": false
   },
   "outputs": [
    {
     "name": "stdout",
     "output_type": "stream",
     "text": [
      "Always switch:\n",
      "Won: 33287; Lost: 33390; Passed: 33323\n",
      "Always stay:\n",
      "Won: 33419; Lost: 33298; Passed: 33283\n"
     ]
    }
   ],
   "source": [
    "print(\"Always switch:\")\n",
    "play(simulate_monty_fall, switch=True)\n",
    "print(\"Always stay:\")\n",
    "play(simulate_monty_fall, switch=False)"
   ]
  },
  {
   "cell_type": "code",
   "execution_count": 6,
   "metadata": {
    "collapsed": false
   },
   "outputs": [
    {
     "name": "stdout",
     "output_type": "stream",
     "text": [
      "Always switch:\n",
      "Won: 66661; Lost: 33339; Passed: 0\n",
      "Always stay:\n",
      "Won: 33333; Lost: 66667; Passed: 0\n"
     ]
    }
   ],
   "source": [
    "def simulate_monty_hall(switch=True):\n",
    "    doors = make_doors()\n",
    "    my_door = pick_door()\n",
    "    hosts_door = [i for i in range(3) if i != my_door and doors[i] != 'car'].pop()\n",
    "    if doors[hosts_door] == 'car':\n",
    "        return None\n",
    "    elif switch:\n",
    "        chosen = [x for x in range(3) if x not in (my_door, hosts_door)].pop()\n",
    "        return doors[chosen]\n",
    "    else:\n",
    "        return doors[my_door]\n",
    "\n",
    "print(\"Always switch:\")\n",
    "play(simulate_monty_hall, switch=True)\n",
    "print(\"Always stay:\")\n",
    "play(simulate_monty_hall, switch=False)"
   ]
  },
  {
   "cell_type": "code",
   "execution_count": null,
   "metadata": {
    "collapsed": true
   },
   "outputs": [],
   "source": []
  }
 ],
 "metadata": {
  "kernelspec": {
   "display_name": "Python 3",
   "language": "python",
   "name": "python3"
  },
  "language_info": {
   "codemirror_mode": {
    "name": "ipython",
    "version": 3
   },
   "file_extension": ".py",
   "mimetype": "text/x-python",
   "name": "python",
   "nbconvert_exporter": "python",
   "pygments_lexer": "ipython3",
   "version": "3.5.1"
  }
 },
 "nbformat": 4,
 "nbformat_minor": 0
}
