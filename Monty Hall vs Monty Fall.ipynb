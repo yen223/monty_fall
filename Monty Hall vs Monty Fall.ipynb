{
 "cells": [
  {
   "cell_type": "code",
   "execution_count": 1,
   "metadata": {
    "collapsed": false
   },
   "outputs": [
    {
     "name": "stdout",
     "output_type": "stream",
     "text": [
      "['goat', 'goat', 'car']\n"
     ]
    }
   ],
   "source": [
    "import random\n",
    "\n",
    "def make_doors():\n",
    "    doors = ['car', 'goat', 'goat']\n",
    "    random.shuffle(doors)\n",
    "    return doors\n",
    "\n",
    "print(make_doors())"
   ]
  },
  {
   "cell_type": "code",
   "execution_count": 2,
   "metadata": {
    "collapsed": true
   },
   "outputs": [],
   "source": [
    "def pick_door():\n",
    "    return random.choice(range(3))"
   ]
  },
  {
   "cell_type": "code",
   "execution_count": 3,
   "metadata": {
    "collapsed": true
   },
   "outputs": [],
   "source": [
    "def play(simulate, switch):\n",
    "    win = 0\n",
    "    loss = 0\n",
    "    impossible = 0\n",
    "    for _ in range(100000):\n",
    "        prize = simulate(switch)\n",
    "        if prize == 'car':\n",
    "            win += 1\n",
    "        elif prize == 'goat':\n",
    "            loss += 1\n",
    "        else:\n",
    "            impossible += 1\n",
    "\n",
    "    print(\"Won: {}; Lost: {}; Impossible: {}\".format(win, loss, impossible))"
   ]
  },
  {
   "cell_type": "code",
   "execution_count": 4,
   "metadata": {
    "collapsed": false
   },
   "outputs": [
    {
     "name": "stdout",
     "output_type": "stream",
     "text": [
      "Always switch:\n",
      "Won: 66823; Lost: 33177; Impossible: 0\n",
      "Always stay:\n",
      "Won: 33430; Lost: 66570; Impossible: 0\n"
     ]
    }
   ],
   "source": [
    "def simulate_monty_hall(switch=True):\n",
    "    \"\"\"\n",
    "    The Monty Hall problem: The player picks one of three doors. The host opens one of the other doors,\n",
    "    revealing a goat. The host then offers the player a chance to switch.\n",
    "    \n",
    "    Should the player switch? Let's find out!\n",
    "    \"\"\"\n",
    "    doors = make_doors()\n",
    "    my_door = pick_door()\n",
    "    hosts_door = [i for i in range(3) if i != my_door and doors[i] != 'car'].pop()\n",
    "    if doors[hosts_door] == 'car':\n",
    "        return None\n",
    "    elif switch:\n",
    "        chosen = [x for x in range(3) if x not in (my_door, hosts_door)].pop()\n",
    "        return doors[chosen]\n",
    "    else:\n",
    "        return doors[my_door]\n",
    "\n",
    "print(\"Always switch:\")\n",
    "play(simulate_monty_hall, switch=True)\n",
    "print(\"Always stay:\")\n",
    "play(simulate_monty_hall, switch=False)"
   ]
  },
  {
   "cell_type": "code",
   "execution_count": 5,
   "metadata": {
    "collapsed": false
   },
   "outputs": [
    {
     "name": "stdout",
     "output_type": "stream",
     "text": [
      "Always switch:\n",
      "Won: 33407; Lost: 33365; Impossible: 33228\n",
      "Always stay:\n",
      "Won: 33307; Lost: 33332; Impossible: 33361\n"
     ]
    }
   ],
   "source": [
    "def simulate_monty_fall(switch=True):\n",
    "    \"\"\"\n",
    "    The Monty Fall problem is where the host *doesn't* know which door contains the car,\n",
    "    and happens to randomly reveal the door that has the goat.\n",
    "    \"\"\"\n",
    "    doors = make_doors()\n",
    "    my_door = pick_door()\n",
    "    hosts_door = random.choice([i for i in range(3) if i != my_door])\n",
    "    if doors[hosts_door] == 'car':\n",
    "        return None\n",
    "    elif switch:\n",
    "        chosen = [x for x in range(3) if x not in (my_door, hosts_door)].pop()\n",
    "        return doors[chosen]\n",
    "    else:\n",
    "        return doors[my_door]\n",
    "\n",
    "print(\"Always switch:\")\n",
    "play(simulate_monty_fall, switch=True)\n",
    "print(\"Always stay:\")\n",
    "play(simulate_monty_fall, switch=False)"
   ]
  },
  {
   "cell_type": "code",
   "execution_count": null,
   "metadata": {
    "collapsed": true
   },
   "outputs": [],
   "source": []
  }
 ],
 "metadata": {
  "kernelspec": {
   "display_name": "Python 3",
   "language": "python",
   "name": "python3"
  },
  "language_info": {
   "codemirror_mode": {
    "name": "ipython",
    "version": 3
   },
   "file_extension": ".py",
   "mimetype": "text/x-python",
   "name": "python",
   "nbconvert_exporter": "python",
   "pygments_lexer": "ipython3",
   "version": "3.5.1"
  }
 },
 "nbformat": 4,
 "nbformat_minor": 0
}
